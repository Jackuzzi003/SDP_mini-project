{
 "cells": [
  {
   "cell_type": "code",
   "execution_count": 4,
   "metadata": {
    "collapsed": false
   },
   "outputs": [
    {
     "name": "stdout",
     "output_type": "stream",
     "text": [
      "Connecting to hello world server...\n"
     ]
    },
    {
     "name": "stderr",
     "output_type": "stream",
     "text": [
      "Unhandled exception in thread started by Unhandled exception in thread started by <function receiver at 0x7fc514471938><function server at 0x7fc5144717d0>\n",
      "\n"
     ]
    },
    {
     "data": {
      "text/plain": [
       "140484177536768"
      ]
     },
     "execution_count": 4,
     "metadata": {},
     "output_type": "execute_result"
    },
    {
     "ename": "NameError",
     "evalue": "global name 'request' is not defined",
     "output_type": "error",
     "traceback": [
      "\u001b[0;31m---------------------------------------------------------------------------\u001b[0m",
      "\u001b[0;31mNameError\u001b[0m                                 Traceback (most recent call last)",
      "\u001b[0;32m<ipython-input-4-b4c99a5bfcf0>\u001b[0m in \u001b[0;36mreceiver\u001b[0;34m()\u001b[0m\n\u001b[1;32m     19\u001b[0m \u001b[0;32mdef\u001b[0m \u001b[0mreceiver\u001b[0m\u001b[0;34m(\u001b[0m\u001b[0;34m)\u001b[0m\u001b[0;34m:\u001b[0m\u001b[0;34m\u001b[0m\u001b[0m\n\u001b[1;32m     20\u001b[0m     \u001b[0;32mwhile\u001b[0m \u001b[0mTrue\u001b[0m\u001b[0;34m:\u001b[0m\u001b[0;34m\u001b[0m\u001b[0m\n\u001b[0;32m---> 21\u001b[0;31m         \u001b[0;32mprint\u001b[0m\u001b[0;34m(\u001b[0m\u001b[0;34m\"Sending request %s ...\"\u001b[0m \u001b[0;34m%\u001b[0m \u001b[0mrequest\u001b[0m\u001b[0;34m)\u001b[0m\u001b[0;34m\u001b[0m\u001b[0m\n\u001b[0m\u001b[1;32m     22\u001b[0m         \u001b[0mhi\u001b[0m \u001b[0;34m=\u001b[0m \u001b[0mraw_input\u001b[0m\u001b[0;34m(\u001b[0m\u001b[0;34m\"please enter something: \"\u001b[0m\u001b[0;34m)\u001b[0m\u001b[0;34m\u001b[0m\u001b[0m\n\u001b[1;32m     23\u001b[0m         \u001b[0;32mprint\u001b[0m\u001b[0;34m(\u001b[0m\u001b[0;34m\"send \"\u001b[0m\u001b[0;34m+\u001b[0m \u001b[0mhi\u001b[0m\u001b[0;34m)\u001b[0m\u001b[0;34m\u001b[0m\u001b[0m\n",
      "\u001b[0;31mNameError\u001b[0m: global name 'request' is not defined"
     ]
    },
    {
     "ename": "AttributeError",
     "evalue": "'function' object has no attribute 'recv'",
     "output_type": "error",
     "traceback": [
      "\u001b[0;31m---------------------------------------------------------------------------\u001b[0m",
      "\u001b[0;31mAttributeError\u001b[0m                            Traceback (most recent call last)",
      "\u001b[0;32m<ipython-input-4-b4c99a5bfcf0>\u001b[0m in \u001b[0;36mserver\u001b[0;34m()\u001b[0m\n\u001b[1;32m     31\u001b[0m     \u001b[0;32mwhile\u001b[0m \u001b[0mTrue\u001b[0m\u001b[0;34m:\u001b[0m\u001b[0;34m\u001b[0m\u001b[0m\n\u001b[1;32m     32\u001b[0m         \u001b[0;31m#  Wait for next request from client\u001b[0m\u001b[0;34m\u001b[0m\u001b[0;34m\u001b[0m\u001b[0m\n\u001b[0;32m---> 33\u001b[0;31m         \u001b[0mmessage\u001b[0m \u001b[0;34m=\u001b[0m \u001b[0mserver\u001b[0m\u001b[0;34m.\u001b[0m\u001b[0mrecv\u001b[0m\u001b[0;34m(\u001b[0m\u001b[0;34m)\u001b[0m\u001b[0;34m\u001b[0m\u001b[0m\n\u001b[0m\u001b[1;32m     34\u001b[0m         \u001b[0;32mprint\u001b[0m\u001b[0;34m(\u001b[0m\u001b[0;34m\"Received request: %s\"\u001b[0m \u001b[0;34m%\u001b[0m \u001b[0mmessage\u001b[0m\u001b[0;34m)\u001b[0m\u001b[0;34m\u001b[0m\u001b[0m\n\u001b[1;32m     35\u001b[0m \u001b[0;34m\u001b[0m\u001b[0m\n",
      "\u001b[0;31mAttributeError\u001b[0m: 'function' object has no attribute 'recv'"
     ]
    }
   ],
   "source": [
    "import zmq\n",
    "import time\n",
    "import thread\n",
    "\n",
    "\n",
    "\n",
    "#  Socket to talk to server\n",
    "context = zmq.Context()\n",
    "print(\"Connecting to hello world server...\")\n",
    "socket = context.socket(zmq.REQ)\n",
    "socket.connect(\"tcp://10.170.110.134:5555\")\n",
    "\n",
    "# setting up the server\n",
    "s_context = zmq.Context()\n",
    "server = s_context.socket(zmq.REP)\n",
    "server.bind(\"tcp://*:5555\")\n",
    "\n",
    "#  Do 10 requests, waiting each time for a response\n",
    "def receiver():\n",
    "    while True:\n",
    "        print(\"Sending request %s ...\" % request)\n",
    "        hi = raw_input(\"please enter something: \")\n",
    "        print(\"send \"+ hi)\n",
    "        socket.send(hi)\n",
    "        #  Get the reply.\n",
    "        message = socket.recv()\n",
    "        print(\"Received reply %s [ %s ]\" % (request, message))\n",
    "\n",
    "\n",
    "def server():\n",
    "    while True:\n",
    "        #  Wait for next request from client\n",
    "        message = server.recv()\n",
    "        print(\"Received request: %s\" % message)\n",
    "\n",
    "        #  Do some 'work'\n",
    "        time.sleep(1)\n",
    "\n",
    "        #  Send reply back to client\n",
    "        server.send(\" \")\n",
    "     \n",
    "def main():\n",
    "    \n",
    "thread.start_new_thread(receiver,())\n",
    "thread.start_new_thread(server,())"
   ]
  }
 ],
 "metadata": {
  "kernelspec": {
   "display_name": "Python 2",
   "language": "python",
   "name": "python2"
  },
  "language_info": {
   "codemirror_mode": {
    "name": "ipython",
    "version": 2
   },
   "file_extension": ".py",
   "mimetype": "text/x-python",
   "name": "python",
   "nbconvert_exporter": "python",
   "pygments_lexer": "ipython2",
   "version": "2.7.13"
  }
 },
 "nbformat": 4,
 "nbformat_minor": 2
}
